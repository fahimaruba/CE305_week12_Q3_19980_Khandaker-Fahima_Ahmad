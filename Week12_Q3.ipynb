{
  "nbformat": 4,
  "nbformat_minor": 0,
  "metadata": {
    "colab": {
      "provenance": [],
      "authorship_tag": "ABX9TyNBhfApjAB3AZIPHZBskthv",
      "include_colab_link": true
    },
    "kernelspec": {
      "name": "python3",
      "display_name": "Python 3"
    },
    "language_info": {
      "name": "python"
    }
  },
  "cells": [
    {
      "cell_type": "markdown",
      "metadata": {
        "id": "view-in-github",
        "colab_type": "text"
      },
      "source": [
        "<a href=\"https://colab.research.google.com/github/fahimaruba/CE305_week12_Q3_19980_Khandaker-Fahima_Ahmad/blob/main/Week12_Q3.ipynb\" target=\"_parent\"><img src=\"https://colab.research.google.com/assets/colab-badge.svg\" alt=\"Open In Colab\"/></a>"
      ]
    },
    {
      "cell_type": "code",
      "execution_count": null,
      "metadata": {
        "id": "Xlt3nIiydsDG"
      },
      "outputs": [],
      "source": [
        "ORG 100\n",
        "LOAD A\t/LOAD the value of A\n",
        "STORE A\t/STORE the value of A\n",
        "loop, LOAD A\t/LOAD the value of A at the start of the loop\n",
        "      SUBT Five\t\t/SUBTRACT the value of A with 5\n",
        "      SKIPCOND 000\t/condition to check if the SUBTRACTED value of (A-5) is less than 0\n",
        "      JUMP ENDLOOP\t/if the condition is met then skip this step, but if not then JUMP to ENDLOOP\n",
        "      LOAD A\t/Again LOAD the value of A\n",
        "      SUBT Three\t/SUBTRACT the value of A with 3\n",
        "      SKIPCOND 400\t/condition to check if the SUBTRACTED value of (A-3) is equal to Zero\n",
        "      JUMP loop1\t/if condition is met then skip this step, but if not then JUMP to loop1\n",
        "      JUMP Continue\t/JUMP to continue\n",
        "      OUTPUT\n",
        "\n",
        "loop1,      LOAD A\t/LOAD the value of A\n",
        "            OUTPUT\t/print the value of A\n",
        "            ADD One\t/ADD the value of A with One\n",
        "            STORE A\t/STORE the new value of A\n",
        "            Jump loop\t/Jump back to loop\n",
        "\n",
        "\n",
        "ENDLOOP, HALT\t/Ends the execution of the program\n",
        "\n",
        "Continue,   LOAD A\t/LOAD the value of A\n",
        "            ADD One\t/ADD the value of A with One\n",
        "            STORE A\t/STORE the new value of A\n",
        "            JUMP loop\t/JUMP back to loop without printing the previous value of A\n",
        "\n",
        "\n",
        "A, Dec 0\t/The purpose declare the variable A\n",
        "Three, Dec 3\t/The purpose declare the variable Three, this remains constant\n",
        "One, DEC 1\t/The purpose declare the variable ONE, this remains constant\n",
        "Five, DEC 5\t/The purpose declare the variable Five, this remains constant\n",
        "END 100\n",
        ""
      ]
    }
  ]
}